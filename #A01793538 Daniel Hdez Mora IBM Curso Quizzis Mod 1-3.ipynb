{
  "nbformat": 4,
  "nbformat_minor": 0,
  "metadata": {
    "colab": {
      "name": "assignment01.ipynb",
      "provenance": [],
      "include_colab_link": true
    },
    "kernelspec": {
      "name": "python3",
      "display_name": "Python 3"
    },
    "language_info": {
      "name": "python"
    }
  },
  "cells": [
    {
      "cell_type": "markdown",
      "metadata": {
        "id": "view-in-github",
        "colab_type": "text"
      },
      "source": [
        "<a href=\"https://colab.research.google.com/github/PosgradoMNA/actividades-de-aprendizaje-Dahemo76/blob/main/%23A01793538%20Daniel%20Hdez%20Mora%20IBM%20Curso%20Quizzis%20Mod%201-3.ipynb\" target=\"_parent\"><img src=\"https://colab.research.google.com/assets/colab-badge.svg\" alt=\"Open In Colab\"/></a>"
      ]
    },
    {
      "cell_type": "markdown",
      "source": [],
      "metadata": {
        "id": "dJqFRD13LVAR"
      }
    },
    {
      "cell_type": "code",
      "source": [
        "#A01793538 Daniel Hdez Mora IBM Curso Quizzis Mod 1-3"
      ],
      "metadata": {
        "id": "H7Uxrw9NZdpj"
      },
      "execution_count": null,
      "outputs": []
    },
    {
      "cell_type": "code",
      "execution_count": null,
      "metadata": {
        "id": "LzUSMM79NR9P",
        "outputId": "1d0c7da0-94b4-4f19-f16a-a059621aec1c",
        "colab": {
          "base_uri": "https://localhost:8080/"
        }
      },
      "outputs": [
        {
          "output_type": "stream",
          "name": "stdout",
          "text": [
            "Actividad 2 Semana 1 Curso Phyton  Data Science Modulos 1 al 3\n",
            "Hello Phyton 101\n",
            "Hello\n",
            "World!\n"
          ]
        },
        {
          "output_type": "execute_result",
          "data": {
            "text/plain": [
              "1"
            ]
          },
          "metadata": {},
          "execution_count": 60
        }
      ],
      "source": [
        "print(\"Actividad 2 Semana 1 Curso Phyton  Data Science Modulos 1 al 3\")\n",
        "print(\"Hello Phyton 101\")\n",
        "#Using the Practice Lab, find the result of executing print(\"Hello\\nWorld!\") statement. \n",
        "print(\"Hello\\nWorld!\")\n",
        "#What is the output of executing the following statement: # print('Hello World!')? Nothing\n",
        "# print('Hello World!')\n",
        "#ejercicio What is the type of the following: int(1.0)? True\n",
        "int(1.0)"
      ]
    },
    {
      "cell_type": "code",
      "source": [
        "#Enter the code to convert the number 1 to a Boolean. bool(1)\n",
        "bool(1)"
      ],
      "metadata": {
        "colab": {
          "base_uri": "https://localhost:8080/"
        },
        "id": "J5xsMNQ6RITR",
        "outputId": "2b050169-c1a5-4f57-80ad-12c8d49c459a"
      },
      "execution_count": null,
      "outputs": [
        {
          "output_type": "execute_result",
          "data": {
            "text/plain": [
              "True"
            ]
          },
          "metadata": {},
          "execution_count": 61
        }
      ]
    },
    {
      "cell_type": "code",
      "execution_count": null,
      "metadata": {
        "outputId": "7cd6ec07-89cc-4136-8e15-73025f68a4f0",
        "colab": {
          "base_uri": "https://localhost:8080/",
          "height": 35
        },
        "id": "Q1KkD9PyQrGI"
      },
      "outputs": [
        {
          "output_type": "execute_result",
          "data": {
            "text/plain": [
              "'0246'"
            ],
            "application/vnd.google.colaboratory.intrinsic+json": {
              "type": "string"
            }
          },
          "metadata": {},
          "execution_count": 62
        }
      ],
      "source": [
        "#How would you obtain the even elements?\n",
        "Numbers = \"0123456\"\n",
        "Numbers[::2]\n"
      ]
    },
    {
      "cell_type": "code",
      "source": [
        "#What is the result of the following line of code\n",
        "\"0123456\".find(\"1\")"
      ],
      "metadata": {
        "id": "GzA4MnDhMZ9R",
        "outputId": "9f4261b3-6f8a-4f47-958b-f5cd40315e4e",
        "colab": {
          "base_uri": "https://localhost:8080/"
        }
      },
      "execution_count": null,
      "outputs": [
        {
          "output_type": "execute_result",
          "data": {
            "text/plain": [
              "1"
            ]
          },
          "metadata": {},
          "execution_count": 63
        }
      ]
    },
    {
      "cell_type": "code",
      "source": [
        "#What is the result of the following operation in Python\n",
        "3 + 2 * 2\n"
      ],
      "metadata": {
        "colab": {
          "base_uri": "https://localhost:8080/"
        },
        "id": "9ZoNjdMSNzqz",
        "outputId": "74645ff1-ed3b-4f9b-ff6e-ddc1bfd2b7fe"
      },
      "execution_count": null,
      "outputs": [
        {
          "output_type": "execute_result",
          "data": {
            "text/plain": [
              "7"
            ]
          },
          "metadata": {},
          "execution_count": 64
        }
      ]
    },
    {
      "cell_type": "code",
      "source": [
        "name = \"lizz\"\n",
        "print(name[0:2])"
      ],
      "metadata": {
        "id": "mxM_WppZPMFx",
        "outputId": "116ac1f8-d5fe-4ce5-ff60-dfeb0da19e2f",
        "colab": {
          "base_uri": "https://localhost:8080/"
        }
      },
      "execution_count": null,
      "outputs": [
        {
          "output_type": "stream",
          "name": "stdout",
          "text": [
            "li\n"
          ]
        }
      ]
    },
    {
      "cell_type": "code",
      "source": [
        "#In Python, if you executed var = '01234567', what would be the result of print(var[::2])?\n",
        "var = \"01234567\"\n",
        "print(var[::2])"
      ],
      "metadata": {
        "colab": {
          "base_uri": "https://localhost:8080/"
        },
        "id": "RjcQKlpuPOMZ",
        "outputId": "df377725-4a08-4a89-de31-703e1d9ce6b7"
      },
      "execution_count": null,
      "outputs": [
        {
          "output_type": "stream",
          "name": "stdout",
          "text": [
            "0246\n"
          ]
        }
      ]
    },
    {
      "cell_type": "code",
      "source": [
        "#In Python, what is the result of the following operation '1'+'2'?\n",
        "\"1\"+\"2\""
      ],
      "metadata": {
        "colab": {
          "base_uri": "https://localhost:8080/",
          "height": 35
        },
        "id": "BGDSYEcvPa4U",
        "outputId": "d1138bd8-273f-44bd-fb50-419b211dd6e4"
      },
      "execution_count": null,
      "outputs": [
        {
          "output_type": "execute_result",
          "data": {
            "text/plain": [
              "'12'"
            ],
            "application/vnd.google.colaboratory.intrinsic+json": {
              "type": "string"
            }
          },
          "metadata": {},
          "execution_count": 67
        }
      ]
    },
    {
      "cell_type": "code",
      "source": [
        "#Given myvar = 'hello', how would you convert myvar into uppercase?\n",
        "myvar = \"hello\"\n",
        "myvar.upper()"
      ],
      "metadata": {
        "colab": {
          "base_uri": "https://localhost:8080/",
          "height": 35
        },
        "id": "-9IRjvKfPnVl",
        "outputId": "0da4c660-4995-43a9-c795-3b159ad23b0c"
      },
      "execution_count": null,
      "outputs": [
        {
          "output_type": "execute_result",
          "data": {
            "text/plain": [
              "'HELLO'"
            ],
            "application/vnd.google.colaboratory.intrinsic+json": {
              "type": "string"
            }
          },
          "metadata": {},
          "execution_count": 68
        }
      ]
    },
    {
      "cell_type": "code",
      "source": [
        "#How do you access the last element of the following tuple: A=(0,1,2,3)? Select all possible correct answers\n",
        "A = (0,1,2,3)\n",
        "A[3]\n",
        "A[-1]"
      ],
      "metadata": {
        "id": "WtsDv4TVRY41",
        "outputId": "6020a0ed-5d79-4d1c-9440-b7b7e7f188fa",
        "colab": {
          "base_uri": "https://localhost:8080/"
        }
      },
      "execution_count": null,
      "outputs": [
        {
          "output_type": "execute_result",
          "data": {
            "text/plain": [
              "3"
            ]
          },
          "metadata": {},
          "execution_count": 69
        }
      ]
    },
    {
      "cell_type": "code",
      "source": [
        "B=[\"a\",\"b\",\"c\"]\n",
        "B[1:]"
      ],
      "metadata": {
        "id": "JIPEDmb7SqiC",
        "outputId": "d6e6ba28-fefe-4d4e-ff63-f12abb119d07",
        "colab": {
          "base_uri": "https://localhost:8080/"
        }
      },
      "execution_count": null,
      "outputs": [
        {
          "output_type": "execute_result",
          "data": {
            "text/plain": [
              "['b', 'c']"
            ]
          },
          "metadata": {},
          "execution_count": 1
        }
      ]
    },
    {
      "cell_type": "code",
      "source": [
        "#What is the result of the following lines of code: S={'A','B','C'} U={'A','Z','C'} U.union(S)\n",
        "S={\"A\",\"B\",\"C\"}\n",
        "U={\"A\",\"Z\",\"C\"}\n",
        "U.union(S)"
      ],
      "metadata": {
        "id": "DHxUewy4Y4Eo",
        "outputId": "7e3bce35-6618-4993-c7a3-2b87ec96f538",
        "colab": {
          "base_uri": "https://localhost:8080/"
        }
      },
      "execution_count": null,
      "outputs": [
        {
          "output_type": "execute_result",
          "data": {
            "text/plain": [
              "{'A', 'B', 'C', 'Z'}"
            ]
          },
          "metadata": {},
          "execution_count": 2
        }
      ]
    },
    {
      "cell_type": "code",
      "source": [
        "#What is the intersection of set S and U? S={'A','B','C'} U={'A','Z','C'}\n",
        "S={\"A\",\"B\",\"C\"}\n",
        "U={\"A\",\"Z\",\"C\"}\n",
        "V=S&U\n",
        "print(V)"
      ],
      "metadata": {
        "id": "UpjL00RiZOOo",
        "outputId": "bed600b3-e753-456c-c21c-d4daa1c658d3",
        "colab": {
          "base_uri": "https://localhost:8080/"
        }
      },
      "execution_count": null,
      "outputs": [
        {
          "output_type": "stream",
          "name": "stdout",
          "text": [
            "{'C', 'A'}\n"
          ]
        }
      ]
    },
    {
      "cell_type": "code",
      "source": [
        "#Consider the following dictionary: D = {'a':0,'b':1,'c':2} What is the result of the following: D.values()?\n",
        "D = {\"a\":0,\"b\":1,\"c\":2}\n",
        "D.values()"
      ],
      "metadata": {
        "id": "Bh4nENrTbxpP",
        "outputId": "9f1a16cf-ce7a-4ce3-defb-41f8ee6d864a",
        "colab": {
          "base_uri": "https://localhost:8080/"
        }
      },
      "execution_count": null,
      "outputs": [
        {
          "output_type": "execute_result",
          "data": {
            "text/plain": [
              "dict_values([0, 1, 2])"
            ]
          },
          "metadata": {},
          "execution_count": 11
        }
      ]
    },
    {
      "cell_type": "code",
      "source": [
        "#Consider the following dictionary: D = {'a':0,'b':1,'c':2} What is the output of the following D['b']?\n",
        "D = {\"a\":0,\"b\":1,\"c\":2}\n",
        "D[\"b\"]"
      ],
      "metadata": {
        "id": "fIeFkSDRcLD8",
        "outputId": "27f20c85-33ee-4720-ddf4-b898666565a2",
        "colab": {
          "base_uri": "https://localhost:8080/"
        }
      },
      "execution_count": null,
      "outputs": [
        {
          "output_type": "execute_result",
          "data": {
            "text/plain": [
              "1"
            ]
          },
          "metadata": {},
          "execution_count": 12
        }
      ]
    },
    {
      "cell_type": "code",
      "source": [
        "#What is the syntax used to obtain the first element of the tuple: A = ('a','b','c')\n",
        "A = (\"a\",\"b\",\"c\")\n",
        "A[0]"
      ],
      "metadata": {
        "id": "5m0dha3acgT7",
        "outputId": "bbec6a3e-2d89-40b3-8e79-fbc0c893930d",
        "colab": {
          "base_uri": "https://localhost:8080/",
          "height": 35
        }
      },
      "execution_count": null,
      "outputs": [
        {
          "output_type": "execute_result",
          "data": {
            "text/plain": [
              "'a'"
            ],
            "application/vnd.google.colaboratory.intrinsic+json": {
              "type": "string"
            }
          },
          "metadata": {},
          "execution_count": 13
        }
      ]
    },
    {
      "cell_type": "code",
      "source": [
        "#After applying the following method, L.append(['a','b']), the following list will only be one element longer.\n",
        "L =[]\n",
        "L.append([\"a\",\"b\"])\n",
        "print (L)"
      ],
      "metadata": {
        "id": "WLXgInp9dYqo",
        "outputId": "63e5b76e-59f5-4ae6-99c6-98dbc3c17e85",
        "colab": {
          "base_uri": "https://localhost:8080/"
        }
      },
      "execution_count": null,
      "outputs": [
        {
          "output_type": "stream",
          "name": "stdout",
          "text": [
            "[['a', 'b']]\n"
          ]
        }
      ]
    },
    {
      "cell_type": "code",
      "source": [
        "#Consider the following Python dictionary: Dict={\"A\":1,\"B\":\"2\",\"C\":[3,3,3],\"D\":(4,4,4),'E':5,'F':6} What is the result of the following operation: Dict[\"D\"]?\n",
        "dict={\"A\":1,\"B\":\"2\",\"C\":[3,3,3],\"D\":(4,4,4),\"E\":5,\"F\":6}\n",
        "dict[\"D\"]"
      ],
      "metadata": {
        "id": "Gvx7nCuld8KF",
        "outputId": "50de9e16-de66-46dc-f620-4e1e8de3dba5",
        "colab": {
          "base_uri": "https://localhost:8080/"
        }
      },
      "execution_count": null,
      "outputs": [
        {
          "output_type": "execute_result",
          "data": {
            "text/plain": [
              "(4, 4, 4)"
            ]
          },
          "metadata": {},
          "execution_count": 22
        }
      ]
    },
    {
      "cell_type": "code",
      "source": [
        "#Select the values of i that produces a True for the following:i!=0\n",
        "i=1000 # i tiene que ser cualquier valor diferente a 0\n",
        "i!=0"
      ],
      "metadata": {
        "id": "thF47G57iDcM",
        "outputId": "fe9b6413-a789-42f9-a691-81f68bec51b4",
        "colab": {
          "base_uri": "https://localhost:8080/"
        }
      },
      "execution_count": null,
      "outputs": [
        {
          "output_type": "execute_result",
          "data": {
            "text/plain": [
              "True"
            ]
          },
          "metadata": {},
          "execution_count": 28
        }
      ]
    },
    {
      "cell_type": "code",
      "source": [
        "#What is the output of the following:x='a' if(x!='a'): print(\"This is not a.\") else: print(\"This is a.\")\n",
        "x=\"a\" \n",
        "if(x!=\"a\"):\n",
        "  print(\"This is not a.\")\n",
        "else:\n",
        "  print(\"This is a.\")"
      ],
      "metadata": {
        "id": "eVlc8LNSi10u",
        "outputId": "91dd67ce-daa7-4c46-9a5a-b9065ab569e7",
        "colab": {
          "base_uri": "https://localhost:8080/"
        }
      },
      "execution_count": null,
      "outputs": [
        {
          "output_type": "stream",
          "name": "stdout",
          "text": [
            "This is a.\n"
          ]
        }
      ]
    },
    {
      "cell_type": "code",
      "source": [
        "#What is the output of the following lines of code:A=[3,4,5] for a in A: print(a)\n",
        "A=[3,4,5]\n",
        "for a in A:\n",
        "  print(a)"
      ],
      "metadata": {
        "id": "-gaHHCmqpBed",
        "outputId": "ce8a119e-e2a2-43ba-ca33-05f7f1fc1f09",
        "colab": {
          "base_uri": "https://localhost:8080/"
        }
      },
      "execution_count": null,
      "outputs": [
        {
          "output_type": "stream",
          "name": "stdout",
          "text": [
            "3\n",
            "4\n",
            "5\n"
          ]
        }
      ]
    },
    {
      "cell_type": "code",
      "source": [
        "#What is the output of the following lines of code: x=3 y=1 while(y!=x): print(y)\n",
        "y=y+1\n",
        "x=3\n",
        "y=1\n",
        "while(y!=x):\n",
        "  print(y)\n",
        "  y=y+1"
      ],
      "metadata": {
        "id": "Bdx-9wDUqg7y",
        "outputId": "dcf1e9ba-c79a-42c8-f653-e589f9ca8694",
        "colab": {
          "base_uri": "https://localhost:8080/"
        }
      },
      "execution_count": null,
      "outputs": [
        {
          "output_type": "stream",
          "name": "stdout",
          "text": [
            "1\n",
            "2\n"
          ]
        }
      ]
    },
    {
      "cell_type": "code",
      "source": [
        "a=1\n",
        "def add(b):\n",
        "  return a+b\n",
        "c=add(10)\n",
        "print (c)\n",
        "print (a)"
      ],
      "metadata": {
        "id": "Kb05bEYpsXFt",
        "outputId": "fe17692b-7bc7-4f7c-d9cb-8b1c11700be3",
        "colab": {
          "base_uri": "https://localhost:8080/"
        }
      },
      "execution_count": null,
      "outputs": [
        {
          "output_type": "stream",
          "name": "stdout",
          "text": [
            "11\n",
            "1\n"
          ]
        }
      ]
    },
    {
      "cell_type": "code",
      "source": [
        "def function(*arg):\n",
        "  print (type(arg))\n",
        "  for i in arg:\n",
        "    print (i)\n",
        "function(1,2,3)"
      ],
      "metadata": {
        "id": "zgrjovdSvkQq",
        "outputId": "f5bf99c4-bd0a-42cd-8313-3914d2dcfe18",
        "colab": {
          "base_uri": "https://localhost:8080/"
        }
      },
      "execution_count": null,
      "outputs": [
        {
          "output_type": "stream",
          "name": "stdout",
          "text": [
            "<class 'tuple'>\n",
            "1\n",
            "2\n",
            "3\n"
          ]
        }
      ]
    },
    {
      "cell_type": "code",
      "source": [
        "def f(*x):\n",
        "  print (type(x))\n",
        "  return sum(x)\n",
        "f(1,2,3,4,5)"
      ],
      "metadata": {
        "id": "5Hps3sNryQN5",
        "outputId": "cb9e61f6-24e4-43fa-94b4-f965f050e3cc",
        "colab": {
          "base_uri": "https://localhost:8080/"
        }
      },
      "execution_count": null,
      "outputs": [
        {
          "output_type": "stream",
          "name": "stdout",
          "text": [
            "<class 'tuple'>\n"
          ]
        },
        {
          "output_type": "execute_result",
          "data": {
            "text/plain": [
              "15"
            ]
          },
          "metadata": {},
          "execution_count": 66
        }
      ]
    },
    {
      "cell_type": "code",
      "source": [
        "x=1\n",
        "\n",
        "if(x!=1):\n",
        "\n",
        "  print('Hello')\n",
        "\n",
        "else:\n",
        "\n",
        "  print('Hi')\n",
        "\n",
        "print('Mike')"
      ],
      "metadata": {
        "id": "Bj-rAxUZ38bs",
        "outputId": "0dfb652c-e021-431a-fa44-a7fd40f8ca7a",
        "colab": {
          "base_uri": "https://localhost:8080/"
        }
      },
      "execution_count": null,
      "outputs": [
        {
          "output_type": "stream",
          "name": "stdout",
          "text": [
            "Hi\n",
            "Mike\n"
          ]
        }
      ]
    },
    {
      "cell_type": "code",
      "source": [
        "A = ['1','2','3']\n",
        "for a in A:\n",
        "  print(2*a)"
      ],
      "metadata": {
        "id": "izxsjKXz4K4e",
        "outputId": "e51edecf-2520-4818-9a12-0f1e6255db38",
        "colab": {
          "base_uri": "https://localhost:8080/"
        }
      },
      "execution_count": null,
      "outputs": [
        {
          "output_type": "stream",
          "name": "stdout",
          "text": [
            "11\n",
            "22\n",
            "33\n"
          ]
        }
      ]
    },
    {
      "cell_type": "code",
      "source": [
        "def Delta(x):\n",
        "  if x==0:\n",
        "    y=1;\n",
        "  else:\n",
        "    y=0;\n",
        "  return(y)\n",
        "Delta (0)"
      ],
      "metadata": {
        "id": "3gcD76kj4Vu4",
        "outputId": "9e8b34c0-2bb5-495d-dfad-03319b00bb3f",
        "colab": {
          "base_uri": "https://localhost:8080/"
        }
      },
      "execution_count": null,
      "outputs": [
        {
          "output_type": "execute_result",
          "data": {
            "text/plain": [
              "1"
            ]
          },
          "metadata": {},
          "execution_count": 78
        }
      ]
    }
  ]
}