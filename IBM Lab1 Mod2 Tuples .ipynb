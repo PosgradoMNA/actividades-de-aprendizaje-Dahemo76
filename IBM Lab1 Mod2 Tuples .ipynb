{
  "nbformat": 4,
  "nbformat_minor": 0,
  "metadata": {
    "colab": {
      "name": "assignment01.ipynb",
      "provenance": [],
      "include_colab_link": true
    },
    "kernelspec": {
      "name": "python3",
      "display_name": "Python 3"
    },
    "language_info": {
      "name": "python"
    }
  },
  "cells": [
    {
      "cell_type": "markdown",
      "metadata": {
        "id": "view-in-github",
        "colab_type": "text"
      },
      "source": [
        "<a href=\"https://colab.research.google.com/github/PosgradoMNA/actividades-de-aprendizaje-Dahemo76/blob/main/IBM%20Lab1%20Mod2%20Tuples%20.ipynb\" target=\"_parent\"><img src=\"https://colab.research.google.com/assets/colab-badge.svg\" alt=\"Open In Colab\"/></a>"
      ]
    },
    {
      "cell_type": "code",
      "execution_count": 1,
      "metadata": {
        "id": "LzUSMM79NR9P",
        "outputId": "720947a8-faa5-42db-a684-af16cf42beeb",
        "colab": {
          "base_uri": "https://localhost:8080/"
        }
      },
      "outputs": [
        {
          "output_type": "execute_result",
          "data": {
            "text/plain": [
              "('disco', 10, 1.2)"
            ]
          },
          "metadata": {},
          "execution_count": 1
        }
      ],
      "source": [
        "# Create your first Tuple\n",
        "tuple1 = (\"disco\",10,1.2 )\n",
        "tuple1"
      ]
    },
    {
      "cell_type": "code",
      "source": [
        "# Print the type of the tuple you created\n",
        "type(tuple1)"
      ],
      "metadata": {
        "id": "94yRdhDA2Yzp",
        "outputId": "a86b534c-f232-4de7-f6b0-0543bd3bec3a",
        "colab": {
          "base_uri": "https://localhost:8080/"
        }
      },
      "execution_count": 5,
      "outputs": [
        {
          "output_type": "execute_result",
          "data": {
            "text/plain": [
              "tuple"
            ]
          },
          "metadata": {},
          "execution_count": 5
        }
      ]
    },
    {
      "cell_type": "code",
      "source": [
        "# Print the variable on each index\n",
        "print(tuple1[0])\n",
        "print(tuple1[1])\n",
        "print(tuple1[2])"
      ],
      "metadata": {
        "id": "mxM_WppZPMFx",
        "outputId": "80b67f1d-1c7f-4167-8ebe-24ed5f2601e8",
        "colab": {
          "base_uri": "https://localhost:8080/"
        }
      },
      "execution_count": 7,
      "outputs": [
        {
          "output_type": "stream",
          "name": "stdout",
          "text": [
            "disco\n",
            "10\n",
            "1.2\n"
          ]
        }
      ]
    },
    {
      "cell_type": "code",
      "source": [
        "# Print the type of value on each index\n",
        "print(type(tuple1[0]))\n",
        "print(type(tuple1[1]))\n",
        "print(type(tuple1[2]))"
      ],
      "metadata": {
        "id": "9T_s0Myd2mNB",
        "outputId": "c8a8f353-f3f8-4dea-b87b-76dcd9f5416a",
        "colab": {
          "base_uri": "https://localhost:8080/"
        }
      },
      "execution_count": 8,
      "outputs": [
        {
          "output_type": "stream",
          "name": "stdout",
          "text": [
            "<class 'str'>\n",
            "<class 'int'>\n",
            "<class 'float'>\n"
          ]
        }
      ]
    },
    {
      "cell_type": "code",
      "source": [
        "# Use negative index to get the value of the last element\n",
        "tuple1[-1]"
      ],
      "metadata": {
        "id": "NG-3yMBn2zb-",
        "outputId": "3e7440ce-9647-4fee-a7df-cb240a27b8de",
        "colab": {
          "base_uri": "https://localhost:8080/"
        }
      },
      "execution_count": 10,
      "outputs": [
        {
          "output_type": "execute_result",
          "data": {
            "text/plain": [
              "1.2"
            ]
          },
          "metadata": {},
          "execution_count": 10
        }
      ]
    },
    {
      "cell_type": "code",
      "source": [
        "# Use negative index to get the value of the second last element\n",
        "tuple1[-2]"
      ],
      "metadata": {
        "id": "RVR1yGl22_sb",
        "outputId": "a4e7f57f-156b-45b1-c175-b1d1018827f3",
        "colab": {
          "base_uri": "https://localhost:8080/"
        }
      },
      "execution_count": 12,
      "outputs": [
        {
          "output_type": "execute_result",
          "data": {
            "text/plain": [
              "10"
            ]
          },
          "metadata": {},
          "execution_count": 12
        }
      ]
    },
    {
      "cell_type": "code",
      "source": [
        "# Use negative index to get the value of the third last element\n",
        "tuple1[-3]"
      ],
      "metadata": {
        "id": "LXCqJSUR3KaO",
        "outputId": "8f2ab3b5-0328-4f61-f70d-e0b95c382cd1",
        "colab": {
          "base_uri": "https://localhost:8080/",
          "height": 35
        }
      },
      "execution_count": 13,
      "outputs": [
        {
          "output_type": "execute_result",
          "data": {
            "text/plain": [
              "'disco'"
            ],
            "application/vnd.google.colaboratory.intrinsic+json": {
              "type": "string"
            }
          },
          "metadata": {},
          "execution_count": 13
        }
      ]
    },
    {
      "cell_type": "code",
      "source": [
        "# Concatenate two tuples\n",
        "tuple2 = tuple1 + (\"hard rock\", 10)\n",
        "tuple2"
      ],
      "metadata": {
        "id": "wnyyzPU53Rdv",
        "outputId": "32247ca8-69c0-49d4-d0ae-e9043425659a",
        "colab": {
          "base_uri": "https://localhost:8080/"
        }
      },
      "execution_count": 17,
      "outputs": [
        {
          "output_type": "execute_result",
          "data": {
            "text/plain": [
              "('disco', 10, 1.2, 'hard rock', 10)"
            ]
          },
          "metadata": {},
          "execution_count": 17
        }
      ]
    },
    {
      "cell_type": "code",
      "source": [
        "# Slice from index 0 to index 2\n",
        "tuple2 [0:3]"
      ],
      "metadata": {
        "id": "-qOMO2XA3cp9",
        "outputId": "02682659-6f3a-4c6e-ebbd-31468d7631c9",
        "colab": {
          "base_uri": "https://localhost:8080/"
        }
      },
      "execution_count": 18,
      "outputs": [
        {
          "output_type": "execute_result",
          "data": {
            "text/plain": [
              "('disco', 10, 1.2)"
            ]
          },
          "metadata": {},
          "execution_count": 18
        }
      ]
    },
    {
      "cell_type": "code",
      "source": [
        "# Slice from index 3 to index 4\n",
        "tuple2 [3:5]"
      ],
      "metadata": {
        "id": "fb4l_DlV33Da",
        "outputId": "a27ddef2-1fa5-43ac-9deb-c8e2ee461cd1",
        "colab": {
          "base_uri": "https://localhost:8080/"
        }
      },
      "execution_count": 20,
      "outputs": [
        {
          "output_type": "execute_result",
          "data": {
            "text/plain": [
              "('hard rock', 10)"
            ]
          },
          "metadata": {},
          "execution_count": 20
        }
      ]
    },
    {
      "cell_type": "code",
      "source": [
        "# Get the length of tuple\n",
        "len (tuple2)"
      ],
      "metadata": {
        "id": "uoOp7sIA4DKA",
        "outputId": "d69756df-5b2c-4dc0-b13d-1b5f46e5e5a9",
        "colab": {
          "base_uri": "https://localhost:8080/"
        }
      },
      "execution_count": 22,
      "outputs": [
        {
          "output_type": "execute_result",
          "data": {
            "text/plain": [
              "5"
            ]
          },
          "metadata": {},
          "execution_count": 22
        }
      ]
    },
    {
      "cell_type": "code",
      "source": [
        "# A sample tuple\n",
        "Ratings = (0, 9, 6, 5, 10, 8, 9, 6, 2)\n",
        "Ratings"
      ],
      "metadata": {
        "id": "xQUl-hKe4Onj",
        "outputId": "f1a634c3-32b1-4354-cd5c-e2dddd4b7aa6",
        "colab": {
          "base_uri": "https://localhost:8080/"
        }
      },
      "execution_count": 24,
      "outputs": [
        {
          "output_type": "execute_result",
          "data": {
            "text/plain": [
              "(0, 9, 6, 5, 10, 8, 9, 6, 2)"
            ]
          },
          "metadata": {},
          "execution_count": 24
        }
      ]
    },
    {
      "cell_type": "code",
      "source": [
        "# Sort the tuple\n",
        "RatingSorted = sorted(Ratings)\n",
        "RatingSorted"
      ],
      "metadata": {
        "id": "qSZRkGWa4Wli",
        "outputId": "280eddd8-a83e-4f7e-c719-47b1ebeb86e0",
        "colab": {
          "base_uri": "https://localhost:8080/"
        }
      },
      "execution_count": 25,
      "outputs": [
        {
          "output_type": "execute_result",
          "data": {
            "text/plain": [
              "[0, 2, 5, 6, 6, 8, 9, 9, 10]"
            ]
          },
          "metadata": {},
          "execution_count": 25
        }
      ]
    },
    {
      "cell_type": "code",
      "source": [
        "# Create a nest tuple\n",
        "NestedT = (1, 2, (\"pop\",\"rock\"),(3,4),(\"disco\",(1,2)))\n",
        "NestedT"
      ],
      "metadata": {
        "id": "m-Yo5dMJ4sVb",
        "outputId": "30877158-0a96-406a-9b17-cea2622af95c",
        "colab": {
          "base_uri": "https://localhost:8080/"
        }
      },
      "execution_count": 27,
      "outputs": [
        {
          "output_type": "execute_result",
          "data": {
            "text/plain": [
              "(1, 2, ('pop', 'rock'), (3, 4), ('disco', (1, 2)))"
            ]
          },
          "metadata": {},
          "execution_count": 27
        }
      ]
    },
    {
      "cell_type": "code",
      "source": [
        "# Print element on each index\n",
        "print(\"Elemento cero Tuple Nested\", NestedT[0])\n",
        "print(\"Elemento uno Tuple Nested\", NestedT[1])\n",
        "print(\"Elemento dos Tuple Nested\", NestedT[2])\n",
        "print(\"Elemento tres Tuple Nested\", NestedT[3])\n",
        "print(\"Elemento cuatro Tuple Nested\", NestedT[4])"
      ],
      "metadata": {
        "id": "8Rew4EHv5SDB",
        "outputId": "0b410e31-db00-4752-d49b-e6e3d89c76d3",
        "colab": {
          "base_uri": "https://localhost:8080/"
        }
      },
      "execution_count": 34,
      "outputs": [
        {
          "output_type": "stream",
          "name": "stdout",
          "text": [
            "Elemento cero Tuple Nested 1\n",
            "Elemento uno Tuple Nested 2\n",
            "Elemento dos Tuple Nested ('pop', 'rock')\n",
            "Elemento tres Tuple Nested (3, 4)\n",
            "Elemento cuatro Tuple Nested ('disco', (1, 2))\n"
          ]
        }
      ]
    },
    {
      "cell_type": "code",
      "source": [
        "# Print element on each index, including nest indexes\n",
        "print (\"Elemento 2 miembro 0\", NestedT[2][0])\n",
        "print (\"Elemento 2 miembro 1\", NestedT[2][1])\n",
        "print (\"Elemento 3 miembro 0\", NestedT[3][0])\n",
        "print (\"Elemento 3 miembro 1\", NestedT[3][1])\n",
        "print (\"Elemento 4 miembro 0\", NestedT[4][0])\n",
        "print (\"Elemento 4 miembro 1\", NestedT[4][1])"
      ],
      "metadata": {
        "id": "2P3P3H6u5o1t",
        "outputId": "7bc96c06-98e8-42ba-8b50-169782ccf551",
        "colab": {
          "base_uri": "https://localhost:8080/"
        }
      },
      "execution_count": 38,
      "outputs": [
        {
          "output_type": "stream",
          "name": "stdout",
          "text": [
            "Elemento 2 miembro 0 pop\n",
            "Elemento 2 miembro 1 rock\n",
            "Elemento 3 miembro 0 3\n",
            "Elemento 3 miembro 1 4\n",
            "Elemento 4 miembro 0 disco\n",
            "Elemento 4 miembro 1 (1, 2)\n"
          ]
        }
      ]
    },
    {
      "cell_type": "code",
      "source": [
        "# Print the first element in the second nested tuples\n",
        "NestedT[2][1][0]"
      ],
      "metadata": {
        "id": "CN-sE2RZ7SWp",
        "outputId": "3a027390-d838-44d4-f219-b0cef593e7b6",
        "colab": {
          "base_uri": "https://localhost:8080/",
          "height": 35
        }
      },
      "execution_count": 42,
      "outputs": [
        {
          "output_type": "execute_result",
          "data": {
            "text/plain": [
              "'r'"
            ],
            "application/vnd.google.colaboratory.intrinsic+json": {
              "type": "string"
            }
          },
          "metadata": {},
          "execution_count": 42
        }
      ]
    },
    {
      "cell_type": "code",
      "source": [
        "# Print the second element in the second nested tuples\n",
        "NestedT[2][1][1]"
      ],
      "metadata": {
        "id": "vE8NcZ1W8qUU",
        "outputId": "de1a1ad5-d178-4cd4-9cf7-7f13429155a0",
        "colab": {
          "base_uri": "https://localhost:8080/",
          "height": 35
        }
      },
      "execution_count": 43,
      "outputs": [
        {
          "output_type": "execute_result",
          "data": {
            "text/plain": [
              "'o'"
            ],
            "application/vnd.google.colaboratory.intrinsic+json": {
              "type": "string"
            }
          },
          "metadata": {},
          "execution_count": 43
        }
      ]
    },
    {
      "cell_type": "code",
      "source": [
        "# sample tuple\n",
        "genres_tuple = (\"pop\", \"rock\", \"soul\", \"hard rock\", \"soft rock\", \"R&B\", \"progressive rock\", \"disco\") \n",
        "genres_tuple"
      ],
      "metadata": {
        "id": "P9hP52ty9VHL",
        "outputId": "aec903c4-bfe4-49f8-d290-bbdfc7b18d4b",
        "colab": {
          "base_uri": "https://localhost:8080/"
        }
      },
      "execution_count": 45,
      "outputs": [
        {
          "output_type": "execute_result",
          "data": {
            "text/plain": [
              "('pop',\n",
              " 'rock',\n",
              " 'soul',\n",
              " 'hard rock',\n",
              " 'soft rock',\n",
              " 'R&B',\n",
              " 'progressive rock',\n",
              " 'disco')"
            ]
          },
          "metadata": {},
          "execution_count": 45
        }
      ]
    },
    {
      "cell_type": "code",
      "source": [
        "#Find the length of the tuple, genres_tuple:\n",
        "len (genres_tuple)"
      ],
      "metadata": {
        "id": "Tj3fVJ1z9pIB",
        "outputId": "7070131a-bb7b-4419-b20d-275672612700",
        "colab": {
          "base_uri": "https://localhost:8080/"
        }
      },
      "execution_count": 48,
      "outputs": [
        {
          "output_type": "execute_result",
          "data": {
            "text/plain": [
              "8"
            ]
          },
          "metadata": {},
          "execution_count": 48
        }
      ]
    },
    {
      "cell_type": "code",
      "source": [
        "#Access the element, with respect to index 3:\n",
        "genres_tuple[3]"
      ],
      "metadata": {
        "id": "uMlBxUUa96yT",
        "outputId": "f5e42369-8b6f-41c0-8878-aa4ead72a6dc",
        "colab": {
          "base_uri": "https://localhost:8080/",
          "height": 35
        }
      },
      "execution_count": 51,
      "outputs": [
        {
          "output_type": "execute_result",
          "data": {
            "text/plain": [
              "'hard rock'"
            ],
            "application/vnd.google.colaboratory.intrinsic+json": {
              "type": "string"
            }
          },
          "metadata": {},
          "execution_count": 51
        }
      ]
    },
    {
      "cell_type": "code",
      "source": [
        "#Use slicing to obtain indexes 3, 4 and 5:\n",
        "genres_tuple[3:6]"
      ],
      "metadata": {
        "id": "hCd0w2Qp9yS-",
        "outputId": "6678a127-77ea-4c8f-821e-3cbcce5a17f1",
        "colab": {
          "base_uri": "https://localhost:8080/"
        }
      },
      "execution_count": 52,
      "outputs": [
        {
          "output_type": "execute_result",
          "data": {
            "text/plain": [
              "('hard rock', 'soft rock', 'R&B')"
            ]
          },
          "metadata": {},
          "execution_count": 52
        }
      ]
    },
    {
      "cell_type": "markdown",
      "source": [],
      "metadata": {
        "id": "HMPKjM5h-WAf"
      }
    },
    {
      "cell_type": "code",
      "source": [
        "#Find the first two elements of the tuple genres_tuple:\n",
        "genres_tuple[0:2]"
      ],
      "metadata": {
        "id": "81rSGe8k-Pr6",
        "outputId": "3aca5e9a-334d-4302-d1ff-9e6a0e391de7",
        "colab": {
          "base_uri": "https://localhost:8080/"
        }
      },
      "execution_count": 56,
      "outputs": [
        {
          "output_type": "execute_result",
          "data": {
            "text/plain": [
              "('pop', 'rock')"
            ]
          },
          "metadata": {},
          "execution_count": 56
        }
      ]
    },
    {
      "cell_type": "code",
      "source": [
        "#Find the first index of \"disco\":\n",
        "genres_tuple.index(\"disco\")"
      ],
      "metadata": {
        "id": "keuD1czH-Z6R",
        "outputId": "b5df18ca-d6a8-4208-b4da-7e01df7028bc",
        "colab": {
          "base_uri": "https://localhost:8080/"
        }
      },
      "execution_count": 60,
      "outputs": [
        {
          "output_type": "execute_result",
          "data": {
            "text/plain": [
              "7"
            ]
          },
          "metadata": {},
          "execution_count": 60
        }
      ]
    },
    {
      "cell_type": "code",
      "source": [
        "#Generate a sorted List from the Tuple C_tuple=(-5, 1, -3):\n",
        "C_tuple = (-5,1,-3)\n",
        "sorted_C = sorted(C_tuple)\n",
        "sorted_C"
      ],
      "metadata": {
        "id": "tx8Fo-1g-q0E",
        "outputId": "60121c40-6879-4fed-aa08-63fdc021b399",
        "colab": {
          "base_uri": "https://localhost:8080/"
        }
      },
      "execution_count": 65,
      "outputs": [
        {
          "output_type": "execute_result",
          "data": {
            "text/plain": [
              "[-5, -3, 1]"
            ]
          },
          "metadata": {},
          "execution_count": 65
        }
      ]
    },
    {
      "cell_type": "code",
      "source": [],
      "metadata": {
        "id": "J9TDbWPr_N9w"
      },
      "execution_count": null,
      "outputs": []
    }
  ]
}