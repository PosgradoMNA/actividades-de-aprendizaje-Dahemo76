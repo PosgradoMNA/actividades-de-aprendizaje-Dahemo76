{
  "nbformat": 4,
  "nbformat_minor": 0,
  "metadata": {
    "colab": {
      "name": "assignment01.ipynb",
      "provenance": [],
      "include_colab_link": true
    },
    "kernelspec": {
      "name": "python3",
      "display_name": "Python 3"
    },
    "language_info": {
      "name": "python"
    }
  },
  "cells": [
    {
      "cell_type": "markdown",
      "metadata": {
        "id": "view-in-github",
        "colab_type": "text"
      },
      "source": [
        "<a href=\"https://colab.research.google.com/github/PosgradoMNA/actividades-de-aprendizaje-Dahemo76/blob/main/IBM%20Phyton%20for%20Data%20Science%20Cap%201-3.ipynb\" target=\"_parent\"><img src=\"https://colab.research.google.com/assets/colab-badge.svg\" alt=\"Open In Colab\"/></a>"
      ]
    },
    {
      "cell_type": "markdown",
      "source": [],
      "metadata": {
        "id": "dJqFRD13LVAR"
      }
    },
    {
      "cell_type": "code",
      "source": [],
      "metadata": {
        "id": "mxM_WppZPMFx"
      },
      "execution_count": null,
      "outputs": []
    },
    {
      "cell_type": "code",
      "execution_count": 25,
      "metadata": {
        "id": "LzUSMM79NR9P",
        "outputId": "3ea8f58d-ddf7-48ff-f2d3-ce3653993325",
        "colab": {
          "base_uri": "https://localhost:8080/"
        }
      },
      "outputs": [
        {
          "output_type": "stream",
          "name": "stdout",
          "text": [
            "Actividad 2 Semana 1 Curso Phyton  Data Science Modulos 1 al 3\n",
            "Hello Phyton 101\n",
            "Hello\n",
            "World!\n"
          ]
        },
        {
          "output_type": "execute_result",
          "data": {
            "text/plain": [
              "1"
            ]
          },
          "metadata": {},
          "execution_count": 25
        }
      ],
      "source": [
        "print(\"Actividad 2 Semana 1 Curso Phyton  Data Science Modulos 1 al 3\")\n",
        "print(\"Hello Phyton 101\")\n",
        "#Using the Practice Lab, find the result of executing print(\"Hello\\nWorld!\") statement. \n",
        "print(\"Hello\\nWorld!\")\n",
        "#What is the output of executing the following statement: # print('Hello World!')? Nothing\n",
        "# print('Hello World!')\n",
        "#ejercicio What is the type of the following: int(1.0)? True\n",
        "int(1.0)\n",
        "#Enter the code to convert the number 1 to a Boolean. bool(1)\n",
        "bool(1)\n",
        "#How would you obtain the even elements?\n",
        "Numbers = \"0123456\"\n",
        "Numbers[::2]\n",
        "#What is the result of the following line of code\n",
        "\"0123456\".find(\"1\")\n",
        "\n",
        "\n",
        "\n"
      ]
    }
  ]
}