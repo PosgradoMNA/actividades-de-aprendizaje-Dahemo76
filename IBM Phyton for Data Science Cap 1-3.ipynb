{
  "nbformat": 4,
  "nbformat_minor": 0,
  "metadata": {
    "colab": {
      "name": "assignment01.ipynb",
      "provenance": [],
      "include_colab_link": true
    },
    "kernelspec": {
      "name": "python3",
      "display_name": "Python 3"
    },
    "language_info": {
      "name": "python"
    }
  },
  "cells": [
    {
      "cell_type": "markdown",
      "metadata": {
        "id": "view-in-github",
        "colab_type": "text"
      },
      "source": [
        "<a href=\"https://colab.research.google.com/github/PosgradoMNA/actividades-de-aprendizaje-Dahemo76/blob/main/IBM%20Phyton%20for%20Data%20Science%20Cap%201-3.ipynb\" target=\"_parent\"><img src=\"https://colab.research.google.com/assets/colab-badge.svg\" alt=\"Open In Colab\"/></a>"
      ]
    },
    {
      "cell_type": "markdown",
      "source": [],
      "metadata": {
        "id": "dJqFRD13LVAR"
      }
    },
    {
      "cell_type": "code",
      "execution_count": 60,
      "metadata": {
        "id": "LzUSMM79NR9P",
        "outputId": "1d0c7da0-94b4-4f19-f16a-a059621aec1c",
        "colab": {
          "base_uri": "https://localhost:8080/"
        }
      },
      "outputs": [
        {
          "output_type": "stream",
          "name": "stdout",
          "text": [
            "Actividad 2 Semana 1 Curso Phyton  Data Science Modulos 1 al 3\n",
            "Hello Phyton 101\n",
            "Hello\n",
            "World!\n"
          ]
        },
        {
          "output_type": "execute_result",
          "data": {
            "text/plain": [
              "1"
            ]
          },
          "metadata": {},
          "execution_count": 60
        }
      ],
      "source": [
        "print(\"Actividad 2 Semana 1 Curso Phyton  Data Science Modulos 1 al 3\")\n",
        "print(\"Hello Phyton 101\")\n",
        "#Using the Practice Lab, find the result of executing print(\"Hello\\nWorld!\") statement. \n",
        "print(\"Hello\\nWorld!\")\n",
        "#What is the output of executing the following statement: # print('Hello World!')? Nothing\n",
        "# print('Hello World!')\n",
        "#ejercicio What is the type of the following: int(1.0)? True\n",
        "int(1.0)"
      ]
    },
    {
      "cell_type": "code",
      "source": [
        "#Enter the code to convert the number 1 to a Boolean. bool(1)\n",
        "bool(1)"
      ],
      "metadata": {
        "colab": {
          "base_uri": "https://localhost:8080/"
        },
        "id": "J5xsMNQ6RITR",
        "outputId": "2b050169-c1a5-4f57-80ad-12c8d49c459a"
      },
      "execution_count": 61,
      "outputs": [
        {
          "output_type": "execute_result",
          "data": {
            "text/plain": [
              "True"
            ]
          },
          "metadata": {},
          "execution_count": 61
        }
      ]
    },
    {
      "cell_type": "code",
      "execution_count": 62,
      "metadata": {
        "outputId": "7cd6ec07-89cc-4136-8e15-73025f68a4f0",
        "colab": {
          "base_uri": "https://localhost:8080/",
          "height": 35
        },
        "id": "Q1KkD9PyQrGI"
      },
      "outputs": [
        {
          "output_type": "execute_result",
          "data": {
            "text/plain": [
              "'0246'"
            ],
            "application/vnd.google.colaboratory.intrinsic+json": {
              "type": "string"
            }
          },
          "metadata": {},
          "execution_count": 62
        }
      ],
      "source": [
        "#How would you obtain the even elements?\n",
        "Numbers = \"0123456\"\n",
        "Numbers[::2]\n"
      ]
    },
    {
      "cell_type": "code",
      "source": [
        "#What is the result of the following line of code\n",
        "\"0123456\".find(\"1\")"
      ],
      "metadata": {
        "id": "GzA4MnDhMZ9R",
        "outputId": "9f4261b3-6f8a-4f47-958b-f5cd40315e4e",
        "colab": {
          "base_uri": "https://localhost:8080/"
        }
      },
      "execution_count": 63,
      "outputs": [
        {
          "output_type": "execute_result",
          "data": {
            "text/plain": [
              "1"
            ]
          },
          "metadata": {},
          "execution_count": 63
        }
      ]
    },
    {
      "cell_type": "code",
      "source": [
        "#What is the result of the following operation in Python\n",
        "3 + 2 * 2\n"
      ],
      "metadata": {
        "colab": {
          "base_uri": "https://localhost:8080/"
        },
        "id": "9ZoNjdMSNzqz",
        "outputId": "74645ff1-ed3b-4f9b-ff6e-ddc1bfd2b7fe"
      },
      "execution_count": 64,
      "outputs": [
        {
          "output_type": "execute_result",
          "data": {
            "text/plain": [
              "7"
            ]
          },
          "metadata": {},
          "execution_count": 64
        }
      ]
    },
    {
      "cell_type": "code",
      "source": [
        "name = \"lizz\"\n",
        "print(name[0:2])"
      ],
      "metadata": {
        "id": "mxM_WppZPMFx",
        "outputId": "116ac1f8-d5fe-4ce5-ff60-dfeb0da19e2f",
        "colab": {
          "base_uri": "https://localhost:8080/"
        }
      },
      "execution_count": 65,
      "outputs": [
        {
          "output_type": "stream",
          "name": "stdout",
          "text": [
            "li\n"
          ]
        }
      ]
    },
    {
      "cell_type": "code",
      "source": [
        "#In Python, if you executed var = '01234567', what would be the result of print(var[::2])?\n",
        "var = \"01234567\"\n",
        "print(var[::2])"
      ],
      "metadata": {
        "colab": {
          "base_uri": "https://localhost:8080/"
        },
        "id": "RjcQKlpuPOMZ",
        "outputId": "df377725-4a08-4a89-de31-703e1d9ce6b7"
      },
      "execution_count": 66,
      "outputs": [
        {
          "output_type": "stream",
          "name": "stdout",
          "text": [
            "0246\n"
          ]
        }
      ]
    },
    {
      "cell_type": "code",
      "source": [
        "#In Python, what is the result of the following operation '1'+'2'?\n",
        "\"1\"+\"2\""
      ],
      "metadata": {
        "colab": {
          "base_uri": "https://localhost:8080/",
          "height": 35
        },
        "id": "BGDSYEcvPa4U",
        "outputId": "d1138bd8-273f-44bd-fb50-419b211dd6e4"
      },
      "execution_count": 67,
      "outputs": [
        {
          "output_type": "execute_result",
          "data": {
            "text/plain": [
              "'12'"
            ],
            "application/vnd.google.colaboratory.intrinsic+json": {
              "type": "string"
            }
          },
          "metadata": {},
          "execution_count": 67
        }
      ]
    },
    {
      "cell_type": "code",
      "source": [
        "#Given myvar = 'hello', how would you convert myvar into uppercase?\n",
        "myvar = \"hello\"\n",
        "myvar.upper()"
      ],
      "metadata": {
        "colab": {
          "base_uri": "https://localhost:8080/",
          "height": 35
        },
        "id": "-9IRjvKfPnVl",
        "outputId": "0da4c660-4995-43a9-c795-3b159ad23b0c"
      },
      "execution_count": 68,
      "outputs": [
        {
          "output_type": "execute_result",
          "data": {
            "text/plain": [
              "'HELLO'"
            ],
            "application/vnd.google.colaboratory.intrinsic+json": {
              "type": "string"
            }
          },
          "metadata": {},
          "execution_count": 68
        }
      ]
    },
    {
      "cell_type": "code",
      "source": [
        "#How do you access the last element of the following tuple: A=(0,1,2,3)? Select all possible correct answers\n",
        "A = (0,1,2,3)\n",
        "A[3]\n",
        "A[-1]"
      ],
      "metadata": {
        "id": "WtsDv4TVRY41",
        "outputId": "6020a0ed-5d79-4d1c-9440-b7b7e7f188fa",
        "colab": {
          "base_uri": "https://localhost:8080/"
        }
      },
      "execution_count": 69,
      "outputs": [
        {
          "output_type": "execute_result",
          "data": {
            "text/plain": [
              "3"
            ]
          },
          "metadata": {},
          "execution_count": 69
        }
      ]
    },
    {
      "cell_type": "code",
      "source": [
        "B=[\"a\",\"b\",\"c\"]\n",
        "B[1:]"
      ],
      "metadata": {
        "id": "JIPEDmb7SqiC",
        "outputId": "025b785b-6014-4f4a-dbfc-15793e21e09e",
        "colab": {
          "base_uri": "https://localhost:8080/"
        }
      },
      "execution_count": 70,
      "outputs": [
        {
          "output_type": "execute_result",
          "data": {
            "text/plain": [
              "['b', 'c']"
            ]
          },
          "metadata": {},
          "execution_count": 70
        }
      ]
    }
  ]
}