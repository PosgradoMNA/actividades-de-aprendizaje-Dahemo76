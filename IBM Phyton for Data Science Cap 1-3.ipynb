{
  "nbformat": 4,
  "nbformat_minor": 0,
  "metadata": {
    "colab": {
      "name": "assignment01.ipynb",
      "provenance": [],
      "include_colab_link": true
    },
    "kernelspec": {
      "name": "python3",
      "display_name": "Python 3"
    },
    "language_info": {
      "name": "python"
    }
  },
  "cells": [
    {
      "cell_type": "markdown",
      "metadata": {
        "id": "view-in-github",
        "colab_type": "text"
      },
      "source": [
        "<a href=\"https://colab.research.google.com/github/PosgradoMNA/actividades-de-aprendizaje-Dahemo76/blob/main/IBM%20Phyton%20for%20Data%20Science%20Cap%201-3.ipynb\" target=\"_parent\"><img src=\"https://colab.research.google.com/assets/colab-badge.svg\" alt=\"Open In Colab\"/></a>"
      ]
    },
    {
      "cell_type": "markdown",
      "source": [],
      "metadata": {
        "id": "dJqFRD13LVAR"
      }
    },
    {
      "cell_type": "code",
      "execution_count": 44,
      "metadata": {
        "id": "LzUSMM79NR9P",
        "outputId": "20f20c02-ed23-4755-c00f-0a4ea77c76e0",
        "colab": {
          "base_uri": "https://localhost:8080/",
          "height": 104
        }
      },
      "outputs": [
        {
          "output_type": "stream",
          "name": "stdout",
          "text": [
            "Actividad 2 Semana 1 Curso Phyton  Data Science Modulos 1 al 3\n",
            "Hello Phyton 101\n",
            "Hello\n",
            "World!\n"
          ]
        },
        {
          "output_type": "execute_result",
          "data": {
            "text/plain": [
              "'0246'"
            ],
            "application/vnd.google.colaboratory.intrinsic+json": {
              "type": "string"
            }
          },
          "metadata": {},
          "execution_count": 44
        }
      ],
      "source": [
        "print(\"Actividad 2 Semana 1 Curso Phyton  Data Science Modulos 1 al 3\")\n",
        "print(\"Hello Phyton 101\")\n",
        "#Using the Practice Lab, find the result of executing print(\"Hello\\nWorld!\") statement. \n",
        "print(\"Hello\\nWorld!\")\n",
        "#What is the output of executing the following statement: # print('Hello World!')? Nothing\n",
        "# print('Hello World!')\n",
        "#ejercicio What is the type of the following: int(1.0)? True\n",
        "int(1.0)\n",
        "#Enter the code to convert the number 1 to a Boolean. bool(1)\n",
        "bool(1)\n",
        "#How would you obtain the even elements?\n",
        "Numbers = \"0123456\"\n",
        "Numbers[::2]\n"
      ]
    },
    {
      "cell_type": "code",
      "source": [
        "#What is the result of the following line of code\n",
        "\"0123456\".find(\"1\")"
      ],
      "metadata": {
        "id": "GzA4MnDhMZ9R",
        "outputId": "b7eef475-f214-46b3-fdf0-f78445bdbdb1",
        "colab": {
          "base_uri": "https://localhost:8080/"
        }
      },
      "execution_count": 50,
      "outputs": [
        {
          "output_type": "execute_result",
          "data": {
            "text/plain": [
              "1"
            ]
          },
          "metadata": {},
          "execution_count": 50
        }
      ]
    },
    {
      "cell_type": "code",
      "source": [
        "#What is the result of the following operation in Python\n",
        "3 + 2 * 2\n"
      ],
      "metadata": {
        "colab": {
          "base_uri": "https://localhost:8080/"
        },
        "id": "9ZoNjdMSNzqz",
        "outputId": "c81f7b67-25a3-413d-c289-2cf35ed0e6ed"
      },
      "execution_count": 47,
      "outputs": [
        {
          "output_type": "execute_result",
          "data": {
            "text/plain": [
              "7"
            ]
          },
          "metadata": {},
          "execution_count": 47
        }
      ]
    },
    {
      "cell_type": "code",
      "source": [
        "name = \"lizz\"\n",
        "print(name[0:2])"
      ],
      "metadata": {
        "id": "mxM_WppZPMFx",
        "outputId": "91d38a51-2c8f-4d9f-9c1c-e7d3cfb535a9",
        "colab": {
          "base_uri": "https://localhost:8080/"
        }
      },
      "execution_count": 48,
      "outputs": [
        {
          "output_type": "stream",
          "name": "stdout",
          "text": [
            "li\n"
          ]
        }
      ]
    }
  ]
}