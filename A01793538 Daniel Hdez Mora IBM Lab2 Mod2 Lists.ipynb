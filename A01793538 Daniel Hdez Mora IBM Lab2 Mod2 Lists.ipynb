{
  "nbformat": 4,
  "nbformat_minor": 0,
  "metadata": {
    "colab": {
      "name": "assignment01.ipynb",
      "provenance": [],
      "include_colab_link": true
    },
    "kernelspec": {
      "name": "python3",
      "display_name": "Python 3"
    },
    "language_info": {
      "name": "python"
    }
  },
  "cells": [
    {
      "cell_type": "markdown",
      "metadata": {
        "id": "view-in-github",
        "colab_type": "text"
      },
      "source": [
        "<a href=\"https://colab.research.google.com/github/PosgradoMNA/actividades-de-aprendizaje-Dahemo76/blob/main/A01793538%20Daniel%20Hdez%20Mora%20IBM%20Lab2%20Mod2%20Lists.ipynb\" target=\"_parent\"><img src=\"https://colab.research.google.com/assets/colab-badge.svg\" alt=\"Open In Colab\"/></a>"
      ]
    },
    {
      "cell_type": "code",
      "source": [
        "#A01793538 Daniel Hernandez Mora IBM Lab2 Mod2 Lists"
      ],
      "metadata": {
        "id": "kZZSm0uMS-RN"
      },
      "execution_count": null,
      "outputs": []
    },
    {
      "cell_type": "code",
      "execution_count": null,
      "metadata": {
        "id": "LzUSMM79NR9P",
        "outputId": "883fccea-1f46-4eb8-ff35-7f7b3a78ff9f",
        "colab": {
          "base_uri": "https://localhost:8080/"
        }
      },
      "outputs": [
        {
          "output_type": "execute_result",
          "data": {
            "text/plain": [
              "['Michael Jackson', 10.1, 1982]"
            ]
          },
          "metadata": {},
          "execution_count": 66
        }
      ],
      "source": [
        "# Create a list\n",
        "L = [\"Michael Jackson\", 10.1, 1982]\n",
        "L"
      ]
    },
    {
      "cell_type": "code",
      "source": [
        "# Print the elements on each index\n",
        "print('the same element using negative and positive indexing:\\n Postive:',L[0],\n",
        "'\\n Negative:' , L[-3]  )\n",
        "print('the same element using negative and positive indexing:\\n Postive:',L[1],\n",
        "'\\n Negative:' , L[-2]  )\n",
        "print('the same element using negative and positive indexing:\\n Postive:',L[2],\n",
        "'\\n Negative:' , L[-1]  )"
      ],
      "metadata": {
        "id": "mxM_WppZPMFx",
        "outputId": "2cb6ffe2-d421-4396-da48-2054a05c5c00",
        "colab": {
          "base_uri": "https://localhost:8080/"
        }
      },
      "execution_count": null,
      "outputs": [
        {
          "output_type": "stream",
          "name": "stdout",
          "text": [
            "the same element using negative and positive indexing:\n",
            " Postive: Michael Jackson \n",
            " Negative: Michael Jackson\n",
            "the same element using negative and positive indexing:\n",
            " Postive: 10.1 \n",
            " Negative: 10.1\n",
            "the same element using negative and positive indexing:\n",
            " Postive: 1982 \n",
            " Negative: 1982\n"
          ]
        }
      ]
    },
    {
      "cell_type": "code",
      "source": [
        "# Sample List\n",
        "L = [\"Michael Jackson\", 10.1,1982,\"MJ\",1]\n",
        "L"
      ],
      "metadata": {
        "id": "LLTuQc93A94I",
        "outputId": "8f6d6732-7ff2-44bb-dbd4-7633d5d68ddf",
        "colab": {
          "base_uri": "https://localhost:8080/"
        }
      },
      "execution_count": null,
      "outputs": [
        {
          "output_type": "execute_result",
          "data": {
            "text/plain": [
              "['Michael Jackson', 10.1, 1982, 'MJ', 1]"
            ]
          },
          "metadata": {},
          "execution_count": 68
        }
      ]
    },
    {
      "cell_type": "code",
      "source": [
        "# List slicing\n",
        "L[3:5]"
      ],
      "metadata": {
        "id": "zsrrCRfAA_ov",
        "outputId": "7d6825ba-a594-488e-a11c-fcf85164c5ed",
        "colab": {
          "base_uri": "https://localhost:8080/"
        }
      },
      "execution_count": null,
      "outputs": [
        {
          "output_type": "execute_result",
          "data": {
            "text/plain": [
              "['MJ', 1]"
            ]
          },
          "metadata": {},
          "execution_count": 69
        }
      ]
    },
    {
      "cell_type": "code",
      "source": [
        "#We can use the method extend to add new elements to the list:\n",
        "# Use extend to add elements to list\n",
        "L = [ \"Michael Jackson\", 10.2]\n",
        "L.extend(['pop', 10])\n",
        "L"
      ],
      "metadata": {
        "id": "brkaXFVMBGik",
        "outputId": "492a02b6-6986-4181-e013-89607466bc60",
        "colab": {
          "base_uri": "https://localhost:8080/"
        }
      },
      "execution_count": null,
      "outputs": [
        {
          "output_type": "execute_result",
          "data": {
            "text/plain": [
              "['Michael Jackson', 10.2, 'pop', 10]"
            ]
          },
          "metadata": {},
          "execution_count": 70
        }
      ]
    },
    {
      "cell_type": "code",
      "source": [
        "#Another similar method is append. If we apply append instead of extend, we add one element to the list:\n",
        "L = [ \"Michael Jackson\", 10.2]\n",
        "L.append(['pop', 10])\n",
        "L"
      ],
      "metadata": {
        "id": "fV6nYBKuBlgt",
        "outputId": "95ef09dd-6991-48c1-bb79-3143b92439cd",
        "colab": {
          "base_uri": "https://localhost:8080/"
        }
      },
      "execution_count": null,
      "outputs": [
        {
          "output_type": "execute_result",
          "data": {
            "text/plain": [
              "['Michael Jackson', 10.2, ['pop', 10]]"
            ]
          },
          "metadata": {},
          "execution_count": 71
        }
      ]
    },
    {
      "cell_type": "code",
      "source": [
        "L.extend(['pop', 10])\n",
        "L"
      ],
      "metadata": {
        "id": "82WD1-xuCVT7",
        "outputId": "039d8e22-da78-45bb-85f2-7661b2fef52a",
        "colab": {
          "base_uri": "https://localhost:8080/"
        }
      },
      "execution_count": null,
      "outputs": [
        {
          "output_type": "execute_result",
          "data": {
            "text/plain": [
              "['Michael Jackson', 10.2, ['pop', 10], 'pop', 10]"
            ]
          },
          "metadata": {},
          "execution_count": 72
        }
      ]
    },
    {
      "cell_type": "code",
      "source": [
        "L.append(['a','b'])\n",
        "L"
      ],
      "metadata": {
        "id": "KgNPJwDhDRQd",
        "outputId": "bf7bc38d-981b-42d7-d8b8-559802754f25",
        "colab": {
          "base_uri": "https://localhost:8080/"
        }
      },
      "execution_count": null,
      "outputs": [
        {
          "output_type": "execute_result",
          "data": {
            "text/plain": [
              "['Michael Jackson',\n",
              " 10.2,\n",
              " ['pop', 10],\n",
              " 'pop',\n",
              " 10,\n",
              " ['a', 'b'],\n",
              " ['a', 'b'],\n",
              " ['a', 'b']]"
            ]
          },
          "metadata": {},
          "execution_count": 75
        }
      ]
    },
    {
      "cell_type": "code",
      "source": [
        "#As lists are mutable, we can change them. For example, we can change the first element as follow\n",
        "A = [\"disco\", 10, 1.2]\n",
        "print('Before change:', A)\n",
        "A[0] = 'hard rock'\n",
        "print('After change:', A)"
      ],
      "metadata": {
        "id": "E97fh-lmDXOu",
        "outputId": "193308f9-dc65-49ff-8918-ec6a9fbf5993",
        "colab": {
          "base_uri": "https://localhost:8080/"
        }
      },
      "execution_count": null,
      "outputs": [
        {
          "output_type": "stream",
          "name": "stdout",
          "text": [
            "Before change: ['disco', 10, 1.2]\n",
            "After change: ['hard rock', 10, 1.2]\n"
          ]
        }
      ]
    },
    {
      "cell_type": "code",
      "source": [
        "#We can also delete an element of a list using the del command:\n",
        "print('Before change:', A)\n",
        "del(A[0])\n",
        "print('After change:', A)"
      ],
      "metadata": {
        "id": "9FDZClh5DtSt",
        "outputId": "2cf939c2-8fde-460f-aaf5-36b088b21c51",
        "colab": {
          "base_uri": "https://localhost:8080/"
        }
      },
      "execution_count": null,
      "outputs": [
        {
          "output_type": "stream",
          "name": "stdout",
          "text": [
            "Before change: ['hard rock', 10, 1.2]\n",
            "After change: [10, 1.2]\n"
          ]
        }
      ]
    },
    {
      "cell_type": "code",
      "source": [
        "#We can convert a string to a list using split. For example, the method split translates every group of characters separated by a \n",
        "#space into an element in a list:\n",
        "# Split the string, default is by space\n",
        "'hard rock'.split()"
      ],
      "metadata": {
        "id": "3-_N0ey-D617",
        "outputId": "dbd2e73f-063f-4ade-daf4-7d60d7ea35c2",
        "colab": {
          "base_uri": "https://localhost:8080/"
        }
      },
      "execution_count": null,
      "outputs": [
        {
          "output_type": "execute_result",
          "data": {
            "text/plain": [
              "['hard', 'rock']"
            ]
          },
          "metadata": {},
          "execution_count": 79
        }
      ]
    },
    {
      "cell_type": "code",
      "source": [
        "#We can use the split function to separate strings on a specific character which we call a delimiter. \n",
        "#We pass the character we would like to split on into the argument, which in this case is a comma.\n",
        "#The result is a list, and each element corresponds to a set of characters that have been separated by a comma:\n",
        "# Split the string by comma\n",
        "'A,B,C,D'.split(',')"
      ],
      "metadata": {
        "id": "N-87o6RHEHOG",
        "outputId": "60d5d42a-774e-4451-fae3-4fa07841a111",
        "colab": {
          "base_uri": "https://localhost:8080/"
        }
      },
      "execution_count": null,
      "outputs": [
        {
          "output_type": "execute_result",
          "data": {
            "text/plain": [
              "['A', 'B', 'C', 'D']"
            ]
          },
          "metadata": {},
          "execution_count": 80
        }
      ]
    },
    {
      "cell_type": "code",
      "source": [
        "#When we set one variable B equal to A, both A and B are referencing the same list in memory:\n",
        "#Copy (copy by reference) the list A\n",
        "A = [\"hard rock\", 10, 1.2]\n",
        "B = A\n",
        "print('A:', A)\n",
        "print('B:', B)"
      ],
      "metadata": {
        "id": "GBrkxrGoEUCb",
        "outputId": "e9fe0457-8bd3-41bb-c272-b16beff46bc5",
        "colab": {
          "base_uri": "https://localhost:8080/"
        }
      },
      "execution_count": null,
      "outputs": [
        {
          "output_type": "stream",
          "name": "stdout",
          "text": [
            "A: ['hard rock', 10, 1.2]\n",
            "B: ['hard rock', 10, 1.2]\n"
          ]
        }
      ]
    },
    {
      "cell_type": "code",
      "source": [
        "#Initially, the value of the first element in B is set as \"hard rock\". If we change the first element in A to \"banana\", \n",
        "#we get an unexpected side effect. As A and B are referencing the same list, if we change list A, then list B also changes.\n",
        "# If we check the first element of B we get \"banana\" instead of \"hard rock\":\n",
        "print(B[0])\n",
        "A[0] = \"Banana\"\n",
        "print (B[0])"
      ],
      "metadata": {
        "id": "uCJMO4CsFJZU",
        "outputId": "5efff552-ecee-495c-861a-938708d922b6",
        "colab": {
          "base_uri": "https://localhost:8080/"
        }
      },
      "execution_count": null,
      "outputs": [
        {
          "output_type": "stream",
          "name": "stdout",
          "text": [
            "hard rock\n",
            "Banana\n"
          ]
        }
      ]
    },
    {
      "cell_type": "code",
      "source": [
        "#You can clone list A by using the following syntax\n",
        "# Clone (clone by value) the list A\n",
        "B = A[:]\n",
        "B"
      ],
      "metadata": {
        "id": "H-aFuXdDFXoH",
        "outputId": "2bf35c96-98bd-4468-dae6-178733289e20",
        "colab": {
          "base_uri": "https://localhost:8080/"
        }
      },
      "execution_count": null,
      "outputs": [
        {
          "output_type": "execute_result",
          "data": {
            "text/plain": [
              "['Banana', 10, 1.2]"
            ]
          },
          "metadata": {},
          "execution_count": 90
        }
      ]
    },
    {
      "cell_type": "code",
      "source": [
        "#BIG DIFFERENCE BETWWEN COPY AND CLONE\n",
        "#Now if you change A, B will not change:\n",
        "print('B[0]:', B[0])\n",
        "A[0] = \"hard rock\"\n",
        "print('B[0]:', B[0])"
      ],
      "metadata": {
        "id": "cgfMxdCiGFWx",
        "outputId": "0239a593-f5bf-4ea5-ea8f-ad64ae630e15",
        "colab": {
          "base_uri": "https://localhost:8080/"
        }
      },
      "execution_count": null,
      "outputs": [
        {
          "output_type": "stream",
          "name": "stdout",
          "text": [
            "B[0]: Banana\n",
            "B[0]: Banana\n"
          ]
        }
      ]
    },
    {
      "cell_type": "code",
      "source": [
        "#Create a list a_list, with the following elements 1, hello, \\[1,2,3] and True\n",
        "A_list = [1,\"hello\",[1,2,3],\"true\"]\n",
        "A_list"
      ],
      "metadata": {
        "id": "O6So7yHRGSQW",
        "outputId": "6ac48d32-bd9f-4719-f4e6-29774cdf2c25",
        "colab": {
          "base_uri": "https://localhost:8080/"
        }
      },
      "execution_count": null,
      "outputs": [
        {
          "output_type": "execute_result",
          "data": {
            "text/plain": [
              "[1, 'hello', [1, 2, 3], 'true']"
            ]
          },
          "metadata": {},
          "execution_count": 96
        }
      ]
    },
    {
      "cell_type": "code",
      "source": [
        "#Find the value stored at index 1 of a_list.\n",
        "A_list[1]"
      ],
      "metadata": {
        "id": "uEX73AISGmiZ",
        "outputId": "15545d0f-e75e-4c48-e986-a9fbdb21211a",
        "colab": {
          "base_uri": "https://localhost:8080/",
          "height": 35
        }
      },
      "execution_count": null,
      "outputs": [
        {
          "output_type": "execute_result",
          "data": {
            "text/plain": [
              "'hello'"
            ],
            "application/vnd.google.colaboratory.intrinsic+json": {
              "type": "string"
            }
          },
          "metadata": {},
          "execution_count": 98
        }
      ]
    },
    {
      "cell_type": "code",
      "source": [
        "#Retrieve the elements stored at index 1, 2 and 3 of a_list.\n",
        "A_list[1:4]"
      ],
      "metadata": {
        "id": "BzSBg7X7G4xU",
        "outputId": "65f0946c-def7-427f-ce76-405afb3aee2d",
        "colab": {
          "base_uri": "https://localhost:8080/"
        }
      },
      "execution_count": null,
      "outputs": [
        {
          "output_type": "execute_result",
          "data": {
            "text/plain": [
              "['hello', [1, 2, 3], 'true']"
            ]
          },
          "metadata": {},
          "execution_count": 99
        }
      ]
    },
    {
      "cell_type": "code",
      "source": [
        "#Concatenate the following lists A = \\[1, 'a'] and B = \\[2, 1, 'd']:\n",
        "A = [1,\"a\"]\n",
        "B = [2,1,\"d\"]\n",
        "C = A + B\n",
        "C"
      ],
      "metadata": {
        "id": "BEbGU4jTHBbg",
        "outputId": "1c8df81c-0e2b-4054-f496-70164da1160f",
        "colab": {
          "base_uri": "https://localhost:8080/"
        }
      },
      "execution_count": null,
      "outputs": [
        {
          "output_type": "execute_result",
          "data": {
            "text/plain": [
              "[1, 'a', 2, 1, 'd']"
            ]
          },
          "metadata": {},
          "execution_count": 100
        }
      ]
    },
    {
      "cell_type": "code",
      "source": [],
      "metadata": {
        "id": "7rML3Aa5HXJo"
      },
      "execution_count": null,
      "outputs": []
    }
  ]
}